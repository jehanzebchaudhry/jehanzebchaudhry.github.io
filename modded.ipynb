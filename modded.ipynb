{
 "cells": [
  {
   "cell_type": "markdown",
   "metadata": {
    "colab_type": "text",
    "id": "view-in-github"
   },
   "source": [
    "<a href=\"https://colab.research.google.com/github/jehanzebchaudhry/jehanzebchaudhry.github.io/blob/master/Copy_of_DMR_Single_Domain.ipynb\" target=\"_parent\"><img src=\"https://colab.research.google.com/assets/colab-badge.svg\" alt=\"Open In Colab\"/></a>"
   ]
  },
  {
   "cell_type": "markdown",
   "metadata": {
    "colab_type": "text",
    "id": "vS_YdSbqFOln"
   },
   "source": [
    "# About the code"
   ]
  },
  {
   "cell_type": "code",
   "execution_count": null,
   "metadata": {
    "colab": {},
    "colab_type": "code",
    "id": "CiQ9r51xKgWh"
   },
   "outputs": [],
   "source": [
    "# This demo solves the Bloch-Torrey equation applied to computational diffusion MRI using \n",
    "# the finite element method coupled with the theta-method for the spatial discretization.\n",
    "\n",
    "# The scope of usage: \n",
    "# (1) one domain, (2) pure homogeneous Neumann, (3) Allow surface diffusion \n",
    "\n",
    "# Copyright (C) 2017 Van-Dang Nguyen (vdnguyen@kth.se)\n",
    "\n",
    "# This file is part of DOLFIN.\n",
    "\n",
    "# DOLFIN is free software: you can redistribute it and/or modify\n",
    "# it under the terms of the GNU Lesser General Public License as published by\n",
    "# the Free Software Foundation, either version 3 of the License, or\n",
    "# (at your option) any later version.\n",
    "\n",
    "# DOLFIN is distributed in the hope that it will be useful,\n",
    "# but WITHOUT ANY WARRANTY; without even the implied warranty of\n",
    "# MERCHANTABILITY or FITNESS FOR A PARTICULAR PURPOSE. See the\n",
    "# GNU Lesser General Public License for more details.\n",
    "\n",
    "# You should have received a copy of the GNU Lesser General Public License\n",
    "# along with DOLFIN. If not, see <http://www.gnu.org/licenses/>.\n",
    "\n",
    "# First added:  2017-10-10\n",
    "# Last changed: 2017-11-18\n",
    "\n",
    "# This demo is maintained by Van-Dang Nguyen\n",
    "# Please report problems to vdnguyen@kth.se"
   ]
  },
  {
   "cell_type": "markdown",
   "metadata": {
    "colab_type": "text",
    "id": "9SJXe6I5JUwF"
   },
   "source": [
    "# Setting a working environment with FEniCS"
   ]
  },
  {
   "cell_type": "code",
   "execution_count": null,
   "metadata": {
    "colab": {
     "base_uri": "https://localhost:8080/",
     "height": 34
    },
    "colab_type": "code",
    "id": "4jWzVxURFVLj",
    "outputId": "8dfe0cff-e3c1-44f1-f96d-b4f589bb926f"
   },
   "outputs": [],
   "source": [
    "from google.colab import files\n",
    "\n",
    "import platform, sys\n",
    "python_version=platform.python_version()\n",
    "from distutils.version import LooseVersion, StrictVersion\n",
    "\n",
    "if ( LooseVersion(python_version) < LooseVersion(\"3.0.0\")):\n",
    "    print(\"Python3 is needed!\");\n",
    "    print(\"How to fix: Runtime/Change_runtime_type/Python 3\");\n",
    "    sys.exit()\n",
    "try:\n",
    "    from dolfin import *; from mshr import *\n",
    "except ImportError as e:\n",
    "    !apt-get install -y -qq software-properties-common python-software-properties module-init-tools\n",
    "    !add-apt-repository -y ppa:fenics-packages/fenics\n",
    "    !apt-get update -qq\n",
    "    !apt install -y --no-install-recommends fenics\n",
    "    from dolfin import *; from mshr import *\n",
    "    \n",
    "import matplotlib.pyplot as plt;\n",
    "from IPython.display import clear_output, display; import time; import dolfin.common.plotting as fenicsplot \n",
    "import time\n",
    "\n",
    "import os, sys, shutil\n",
    "\n",
    "dolfin_version = dolfin.__version__\n",
    "print ('dolfin version:', dolfin_version)\n",
    "\n",
    "!rm -rf * # clean up all files\n",
    "# Useful commands\n",
    "# Remove an empty folder      : os.rmdir(\"my_results\")\n",
    "# Remove a folder with files  : shutil.rmtree(\"results\")\n",
    "# Make a folder               : os.mkdir(\"my_results\")\n",
    "# Runtime/Change_runtime_type/Python3"
   ]
  },
  {
   "cell_type": "markdown",
   "metadata": {
    "colab_type": "text",
    "id": "GldJAdpzE-E9"
   },
   "source": [
    "# Define some parameters"
   ]
  },
  {
   "cell_type": "code",
   "execution_count": null,
   "metadata": {
    "colab": {},
    "colab_type": "code",
    "id": "nwbAVWzayUC_"
   },
   "outputs": [],
   "source": [
    "bvalue = 10000;             # bvalue\n",
    "delta, Delta = 40000, 40000 # PGSE sequence\n",
    "g0, g1, g2 = 1, 0, 0;       # gradient direction\n",
    "K = 3e-3;                   # Diffusion coefficient\n",
    "nskip = 5;                  # Output frequency (for visualization only)\n",
    "porder = 1;                 # order of basis functions of FEM\n",
    "Nsteps = 200;               # number of time intervals"
   ]
  },
  {
   "cell_type": "markdown",
   "metadata": {
    "colab_type": "text",
    "id": "r6GW2fwLE042"
   },
   "source": [
    "# Define a mesh"
   ]
  },
  {
   "cell_type": "code",
   "execution_count": null,
   "metadata": {
    "colab": {
     "base_uri": "https://localhost:8080/",
     "height": 402
    },
    "colab_type": "code",
    "id": "ksCOgH6e6d8e",
    "outputId": "d17f9ea6-f8a3-45b0-b484-42dc4905d146"
   },
   "outputs": [],
   "source": [
    "xc = 0;\n",
    "yc = 0;\n",
    "r = 10;\n",
    "mresolution = 10;\n",
    "domain = Circle(Point(xc, yc), r, int(r*5));\n",
    "mesh = generate_mesh(domain, mresolution);\n",
    "gdim = mesh.geometry().dim()\n",
    "\n",
    "plot(mesh)"
   ]
  },
  {
   "cell_type": "markdown",
   "metadata": {
    "colab_type": "text",
    "id": "aFEvif9PF2yH"
   },
   "source": [
    "# Solve the Bloch-Torrey equation"
   ]
  },
  {
   "cell_type": "code",
   "execution_count": null,
   "metadata": {
    "colab": {
     "base_uri": "https://localhost:8080/",
     "height": 1154
    },
    "colab_type": "code",
    "id": "DYZ5SWlw69tQ",
    "outputId": "e7842f8b-4cc3-4c25-c045-e3807de039f6"
   },
   "outputs": [],
   "source": [
    "if (Delta-delta/3.0<=0):\n",
    "    print('Check time sequence!');\n",
    "    exit(0);\n",
    "gnorm = sqrt(bvalue)/sqrt(delta*delta*(Delta-delta/3.0));\n",
    "t, T = 0, Delta+delta;\n",
    "\n",
    "## FUNCTION SPACES\n",
    "if dolfin_version=='1.6.0':\n",
    "    V = FunctionSpace(mesh , \"CG\", porder); # order 1, 2 components\n",
    "    W = MixedFunctionSpace([V, V])\n",
    "else:\n",
    "    # For FEniCS 2016, 2017\n",
    "    Ve = FiniteElement(\"CG\", mesh.ufl_cell(), porder)\n",
    "    V = FunctionSpace(mesh,Ve);\n",
    "    TH = MixedElement([Ve,Ve])\n",
    "    W = FunctionSpace(mesh, TH)\n",
    "\n",
    "\n",
    "v = TestFunction(W)\n",
    "v1r, v1i = v[0], v[1]\n",
    "\n",
    "u = TrialFunction(W);\n",
    "u1r, u1i = u[0], u[1]\n",
    "\n",
    "# Initial conditions\n",
    "if (gdim==2):\n",
    "  Dirac_Delta = Expression(\"x[0]*x[0]+x[1]*x[1]<eps\",eps=1e6, domain=mesh, degree=2);\n",
    "if (gdim==3):\n",
    "  Dirac_Delta = Expression(\"x[0]*x[0]+x[1]*x[1]+x[2]*x[2]<eps\",eps=1e6, domain=mesh, degree=2);\n",
    "Dirac_Delta = project(Dirac_Delta, V);\n",
    "u_0 = Function(W);\n",
    "assign(u_0.sub(0), Dirac_Delta)\n",
    "u1r_0, u1i_0 = split(u_0)\n",
    "\n",
    "if (gdim==2):\n",
    "  GX=Expression(\"x[0]*g0+x[1]*g1\", g0=g0, g1=g1, domain=mesh, degree=3);\n",
    "if (gdim==3):\n",
    "  GX=Expression(\"x[0]*g0+x[1]*g1+x[2]*g2\", g0=g0, g1=g1, g2=g2, domain=mesh, degree=3);\n",
    "\n",
    "def FT(t, delta, Delta):\n",
    "    ft1 = 1.0*(t>=0 and t<delta) \n",
    "    ft2 = -1.0*(t>=Delta and t<=Delta+delta);\n",
    "    return ft1 + ft2;  \n",
    "\n",
    "def iFT(t, delta, Delta): # integrate ft\n",
    "    ft1 = t*(t>=0 and t<delta) \n",
    "    ft2 = delta*(t>=delta and t<Delta) \n",
    "    ft3 = (delta - t + Delta)*(t>=Delta and t<=Delta+delta) \n",
    "    return ft1 + ft2 + ft3;  \n",
    "stepcounter = 0;\n",
    "\n",
    "## Theta method\n",
    "def FuncF(ft, gnorm, GX, ur, ui, vr, vi, K):\n",
    "    Fr = ft*gnorm*GX*ui*vr - K*inner(grad(ur), grad(vr))\n",
    "    Fi = - ft*gnorm*GX*ur*vi - K*inner(grad(ui), grad(vi))\n",
    "    return Fr + Fi\n",
    "\n",
    "def ThetaMethod_L(ft, gnorm, GX, u1r, u1i, v1r, v1i,k, K, theta):\n",
    "    L1 = (u1r_0/k*v1r +u1i_0/k*v1i+(1-theta)*FuncF(ft, gnorm, GX, u1r_0, u1i_0, v1r, v1i, K))*dx\n",
    "    return L1\n",
    "\n",
    "def ThetaMethod_a(ft, gnorm, GX, u1r, u1i, v1r, v1i,k, K, theta):\n",
    "    a1 = (u1r/k*v1r   + u1i/k*v1i  -theta*FuncF(ft, gnorm, GX, u1r  , u1i  , v1r, v1i, K))*dx\n",
    "    return a1\n",
    "\n",
    "def NoTimeMatrices(u1r, u1i, v1r, v1i, K, GX, theta):\n",
    "    m1 = (u1r*v1r   + u1i*v1i)*dx\n",
    "    M = assemble(m1);\n",
    "    j1 = -GX*(u1i*v1r   - u1r*v1i)*dx\n",
    "    J = assemble(j1);    \n",
    "    s1 = K*( inner(grad(u1r), grad(v1r)) + inner(grad(u1i), grad(v1i)) )*dx\n",
    "    S = assemble(s1)\n",
    "    return M, J, S\n",
    "\n",
    "def ThetaMethod_A(ft, gnorm, theta, k, M, J, S):\n",
    "    return 1./k*M + ft*gnorm*theta*J + theta*S\n",
    "\n",
    "theta = 0.5;\n",
    "\n",
    "k = T/Nsteps;\n",
    "\n",
    "hmin = mesh.hmin();\n",
    "\n",
    "# h = CellSize(mesh);\n",
    "h=Circumradius(mesh);\n",
    "\n",
    "print('mesh.hmin: ', hmin,'mesh.hmax: ',mesh.hmax());\n",
    "\n",
    "M, J, S = NoTimeMatrices(u1r, u1i, v1r, v1i, K, GX, theta);\n",
    "\n",
    "stepcounter = 0;\n",
    "\n",
    "ft_prev = FT(t, delta, Delta);\n",
    "\n",
    "while t < T + k: # Time-stepping loop\n",
    "    if stepcounter % nskip == 0:\n",
    "        print('t: %f '%t, 'T: %.1f'%T, 'dt:%.1f'%k,'gnorm: %e'%gnorm,'Completed %.2f%%'%(float(t)/float(T+k)*100.0));\n",
    "    ft = FT(t, delta, Delta);\n",
    "    ift = iFT(t, delta, Delta);\n",
    "    L = ThetaMethod_L(ft_prev, gnorm, GX, u1r, u1i, v1r, v1i,k, K, theta);\n",
    "    # A = ThetaMethod_A(ft, gnorm, theta, k, M, J, S);\n",
    "    a = ThetaMethod_a(ft, gnorm, GX, u1r, u1i, v1r, v1i,k, K, theta);\n",
    "    A = assemble(a);\n",
    "    b = assemble(L);\n",
    "    u = Function(W)\n",
    "    solve(A,u.vector(),b, \"gmres\", \"ilu\");\n",
    "    u1r_0, u1i_0 = split(u)\n",
    "    ft_prev = ft;\n",
    "    t += k;\n",
    "    stepcounter += 1;\n",
    "\n",
    "signal = assemble(u1r_0*dx)/assemble(Dirac_Delta*dx);\n",
    "print('b:',bvalue, 'Signal: %.3e'%signal,', dt:',k,', hmin:',hmin)\n",
    "\n",
    "\n",
    "u1r_0p = project(u1r_0, V);\n",
    "u1i_0p = project(u1i_0, V);\n",
    "\n",
    "File('RealSol.pvd')<<u1r_0p;\n",
    "File('ImagSol.pvd')<<u1i_0p;\n"
   ]
  },
  {
   "cell_type": "code",
   "execution_count": null,
   "metadata": {
    "colab": {},
    "colab_type": "code",
    "id": "ORROTTa3HlXa"
   },
   "outputs": [],
   "source": []
  },
  {
   "cell_type": "markdown",
   "metadata": {
    "colab_type": "text",
    "id": "2PFBYd0QMw4U"
   },
   "source": [
    "# Reference solutions"
   ]
  },
  {
   "cell_type": "code",
   "execution_count": null,
   "metadata": {
    "colab": {},
    "colab_type": "code",
    "id": "3paAgRxbM3yW"
   },
   "outputs": [],
   "source": [
    "# The results were generated by the Matrix Formalism method propsed in\n",
    "# D.S. Grebenkov, Pulsed-gradient spin-echo monitoring of restricted \n",
    "# diffusion in multilayered structures, J. Magn. Reson., 205 (2) (2010)\n",
    "# # # # # # # # # # # # # # # # # # # # # # # # # # # # # # # # # # # # \n",
    "# # # R=10, delta=Delta=40000\n",
    "#  bvalue  # signal attenuation\n",
    "# # # # # # # # # # # # # # #\n",
    "# 0.00e+00 # 1.00e+00\n",
    "# 1.00e+03 # 7.43e-01\n",
    "# 2.00e+03 # 5.46e-01\n",
    "# 3.00e+03 # 3.96e-01\n",
    "# 4.00e+03 # 2.84e-01\n",
    "# 5.00e+03 # 2.00e-01\n",
    "# 6.00e+03 # 1.38e-01\n",
    "# 7.00e+03 # 9.32e-02\n",
    "# 8.00e+03 # 6.15e-02\n",
    "# 9.00e+03 # 3.95e-02\n",
    "# 1.00e+04 # 2.46e-02\n",
    "# # # # # # # # # # # # # # #\n",
    "\n",
    "\n"
   ]
  }
 ],
 "metadata": {
  "accelerator": "GPU",
  "colab": {
   "collapsed_sections": [
    "r6GW2fwLE042"
   ],
   "include_colab_link": true,
   "name": "Copy of DMR_Single_Domain.ipynb",
   "provenance": [],
   "toc_visible": true,
   "version": "0.3.2"
  },
  "kernelspec": {
   "display_name": "Python 3",
   "language": "python",
   "name": "python3"
  },
  "language_info": {
   "codemirror_mode": {
    "name": "ipython",
    "version": 3
   },
   "file_extension": ".py",
   "mimetype": "text/x-python",
   "name": "python",
   "nbconvert_exporter": "python",
   "pygments_lexer": "ipython3",
   "version": "3.6.7"
  }
 },
 "nbformat": 4,
 "nbformat_minor": 2
}
